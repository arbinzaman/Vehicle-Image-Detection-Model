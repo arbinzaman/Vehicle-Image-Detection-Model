{
 "cells": [
  {
   "cell_type": "code",
   "execution_count": null,
   "metadata": {
    "colab": {
     "base_uri": "https://localhost:8080/"
    },
    "executionInfo": {
     "elapsed": 35102,
     "status": "ok",
     "timestamp": 1735835690700,
     "user": {
      "displayName": "Arbin Zaman",
      "userId": "00079923400858992466"
     },
     "user_tz": -360
    },
    "id": "Ix5AnXvTyKKO",
    "outputId": "12647799-d8d5-4577-a459-13fe60a62af2"
   },
   "outputs": [],
   "source": [
    "# Vehicle Type Classification Project\n",
    "\n",
    "## Step 1: Import Required Libraries\n",
    "import numpy as np\n",
    "import pandas as pd\n",
    "import os\n",
    "import tensorflow as tf\n",
    "from tensorflow.keras.models import Sequential\n",
    "from tensorflow.keras.layers import Conv2D, MaxPooling2D, Flatten, Dense\n",
    "from tensorflow.keras.preprocessing.image import ImageDataGenerator\n",
    "from sklearn.ensemble import RandomForestClassifier\n",
    "from sklearn.model_selection import train_test_split\n",
    "from sklearn.metrics import accuracy_score, classification_report\n",
    "import matplotlib.pyplot as plt\n",
    "\n"
   ]
  },
  {
   "cell_type": "code",
   "execution_count": null,
   "metadata": {
    "colab": {
     "base_uri": "https://localhost:8080/"
    },
    "executionInfo": {
     "elapsed": 1508,
     "status": "ok",
     "timestamp": 1735835710835,
     "user": {
      "displayName": "Arbin Zaman",
      "userId": "00079923400858992466"
     },
     "user_tz": -360
    },
    "id": "v8L_VpglyObL",
    "outputId": "e0dc0b17-b0ff-4d64-f385-138c2cfb54d4"
   },
   "outputs": [],
   "source": [
    "\n",
    "## Step 2: Load Dataset\n",
    "# Update the dataset path to your environment\n",
    "DATASET_PATH = \"../Project/archive/Dataset\"\n",
    "\n",
    "# Load images using ImageDataGenerator\n",
    "image_gen = ImageDataGenerator(rescale=1./255, validation_split=0.2)\n",
    "\n",
    "train_data = image_gen.flow_from_directory(\n",
    "    DATASET_PATH,\n",
    "    target_size=(128, 128),\n",
    "    batch_size=32,\n",
    "    class_mode='sparse',\n",
    "    subset='training'\n",
    ")\n",
    "\n",
    "validation_data = image_gen.flow_from_directory(\n",
    "    DATASET_PATH,\n",
    "    target_size=(128, 128),\n",
    "    batch_size=32,\n",
    "    class_mode='sparse',\n",
    "    subset='validation'\n",
    ")\n",
    "\n",
    "# Retrieve class labels\n",
    "labels = list(train_data.class_indices.keys())\n"
   ]
  },
  {
   "cell_type": "code",
   "execution_count": null,
   "metadata": {
    "colab": {
     "base_uri": "https://localhost:8080/"
    },
    "executionInfo": {
     "elapsed": 18608,
     "status": "ok",
     "timestamp": 1735835732790,
     "user": {
      "displayName": "Arbin Zaman",
      "userId": "00079923400858992466"
     },
     "user_tz": -360
    },
    "id": "jkrcAS4pyW82",
    "outputId": "cc172fd5-7f20-4f4d-ef06-53575bf75f86"
   },
   "outputs": [],
   "source": [
    "## Step 3: Train a Conventional Model\n",
    "# Flatten images for Random Forest Classifier\n",
    "X_train_flat = train_data[0][0].reshape(train_data[0][0].shape[0], -1)\n",
    "y_train = train_data[0][1]\n",
    "\n",
    "X_test_flat = validation_data[0][0].reshape(validation_data[0][0].shape[0], -1)\n",
    "y_test = validation_data[0][1]\n",
    "\n",
    "clf = RandomForestClassifier(n_estimators=100, random_state=42)\n",
    "clf.fit(X_train_flat, y_train)\n",
    "\n",
    "# Evaluate the Random Forest Model\n",
    "preds = clf.predict(X_test_flat)\n",
    "rf_accuracy = accuracy_score(y_test, preds)\n",
    "print(\"Random Forest Classifier Accuracy:\", rf_accuracy)\n",
    "print(\"\\nClassification Report:\\n\", classification_report(y_test, preds, target_names=labels))\n"
   ]
  },
  {
   "cell_type": "code",
   "execution_count": null,
   "metadata": {
    "colab": {
     "base_uri": "https://localhost:8080/"
    },
    "executionInfo": {
     "elapsed": 341128,
     "status": "ok",
     "timestamp": 1735836077395,
     "user": {
      "displayName": "Arbin Zaman",
      "userId": "00079923400858992466"
     },
     "user_tz": -360
    },
    "id": "J-kdVgxlyal9",
    "outputId": "12680406-8d5f-496f-a286-9b29715d21e2"
   },
   "outputs": [],
   "source": [
    "## Step 4: Train a CNN Model\n",
    "cnn_model = Sequential([\n",
    "    Conv2D(32, (3, 3), activation='relu', input_shape=(128, 128, 3)),\n",
    "    MaxPooling2D((2, 2)),\n",
    "    Conv2D(64, (3, 3), activation='relu'),\n",
    "    MaxPooling2D((2, 2)),\n",
    "    Flatten(),\n",
    "    Dense(128, activation='relu'),\n",
    "    Dense(len(labels), activation='softmax')\n",
    "])\n",
    "\n",
    "cnn_model.compile(optimizer='adam',\n",
    "                  loss='sparse_categorical_crossentropy',\n",
    "                  metrics=['accuracy'])\n",
    "\n",
    "history = cnn_model.fit(\n",
    "    train_data,\n",
    "    validation_data=validation_data,\n",
    "    epochs=10\n",
    ")\n"
   ]
  },
  {
   "cell_type": "code",
   "execution_count": null,
   "metadata": {
    "colab": {
     "base_uri": "https://localhost:8080/",
     "height": 463
    },
    "executionInfo": {
     "elapsed": 1262,
     "status": "ok",
     "timestamp": 1735836195476,
     "user": {
      "displayName": "Arbin Zaman",
      "userId": "00079923400858992466"
     },
     "user_tz": -360
    },
    "id": "fHzEO49Hyepb",
    "outputId": "4f667275-6868-4b3a-ce46-f8dca83d8a06"
   },
   "outputs": [],
   "source": [
    "## Step 5: Evaluate CNN Model\n",
    "acc = history.history['accuracy']\n",
    "val_acc = history.history['val_accuracy']\n",
    "loss = history.history['loss']\n",
    "val_loss = history.history['val_loss']\n",
    "\n",
    "plt.figure(figsize=(8, 4))\n",
    "plt.subplot(1, 2, 1)\n",
    "plt.plot(acc, label='Training Accuracy')\n",
    "plt.plot(val_acc, label='Validation Accuracy')\n",
    "plt.legend(loc='lower right')\n",
    "plt.title('Training and Validation Accuracy')\n",
    "\n",
    "plt.subplot(1, 2, 2)\n",
    "plt.plot(loss, label='Training Loss')\n",
    "plt.plot(val_loss, label='Validation Loss')\n",
    "plt.legend(loc='upper right')\n",
    "plt.title('Training and Validation Loss')\n",
    "plt.show()\n",
    "\n",
    "# Save the trained CNN model\n",
    "cnn_model.save(\"vehicle_classification_model.h5\")\n",
    "\n",
    "# Print final accuracies\n",
    "final_train_accuracy = acc[-1]\n",
    "final_val_accuracy = val_acc[-1]\n",
    "print(f\"Final CNN Training Accuracy: {final_train_accuracy:.2f}\")\n",
    "print(f\"Final CNN Validation Accuracy: {final_val_accuracy:.2f}\")\n"
   ]
  }
 ],
 "metadata": {
  "colab": {
   "provenance": []
  },
  "kaggle": {
   "accelerator": "none",
   "dataSources": [],
   "dockerImageVersionId": 30527,
   "isGpuEnabled": false,
   "isInternetEnabled": false,
   "language": "python",
   "sourceType": "notebook"
  },
  "kernelspec": {
   "display_name": ".venv",
   "language": "python",
   "name": "python3"
  },
  "language_info": {
   "codemirror_mode": {
    "name": "ipython",
    "version": 3
   },
   "file_extension": ".py",
   "mimetype": "text/x-python",
   "name": "python",
   "nbconvert_exporter": "python",
   "pygments_lexer": "ipython3",
   "version": "3.12.6"
  }
 },
 "nbformat": 4,
 "nbformat_minor": 0
}
